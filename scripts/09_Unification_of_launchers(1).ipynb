{
 "cells": [
  {
   "cell_type": "markdown",
   "metadata": {
    "id": "44sHAlo0MTxe"
   },
   "source": [
    "En el siguiente cuaderno colaborativo (Colab), aprenderemos cómo realizar una unificación de lanzadores (launchers) para ROS 2. Esta unificación nos permitirá tener solo uno o dos terminales abiertos en lugar de uno por cada lanzador.\n",
    "\n",
    "Para lograr esto, lo primero que debemos hacer es crear un paquete con el nombre de nuestro proyecto seguido de \"_bringup\". Para crear un paquete en Python para ROS 2, utilizamos el siguiente comando:"
   ]
  },
  {
   "cell_type": "code",
   "execution_count": null,
   "metadata": {
    "id": "YWuJcY-JMCja"
   },
   "outputs": [],
   "source": [
    "ros2 pkg create --build-type ament_python nombre_proyecto_bringup"
   ]
  },
  {
   "cell_type": "markdown",
   "metadata": {
    "id": "NCSaYPA1NUsd"
   },
   "source": [
    "Después de crear el proyecto, procederemos a crear una carpeta llamada \"launch\". Dentro de esta carpeta, crearemos un archivo en Python con el nombre **nombre_proyecto_bringup.launch.py** y copiaremos el siguiente código:\n",
    "\n",
    "Nota: He tomado como ejemplo el proyecto **proy_techcommit** presentado en el  sprint 2."
   ]
  },
  {
   "cell_type": "code",
   "execution_count": null,
   "metadata": {
    "id": "eEzELgL-N77g"
   },
   "outputs": [],
   "source": [
    "import os\n",
    "import random\n",
    "from launch_ros.actions import Node\n",
    "from launch import LaunchDescription\n",
    "from ament_index_python import get_package_share_directory\n",
    "from launch.actions import IncludeLaunchDescription\n",
    "from launch.launch_description_sources import PythonLaunchDescriptionSource\n",
    "\n",
    "def generate_launch_description():\n",
    "    res = []\n",
    "\n",
    "\n",
    "    launch_robot_world = IncludeLaunchDescription(\n",
    "        PythonLaunchDescriptionSource(os.path.join(get_package_share_directory(\"proy_techcommit_mundo\"), 'launch/turtlebot3_proy_techcommit.launch.py'))\n",
    "    )\n",
    "    res.append(launch_robot_world)\n",
    "\n",
    "    launch_robot_deepLearning = IncludeLaunchDescription(\n",
    "        PythonLaunchDescriptionSource(os.path.join(get_package_share_directory(\"robot_gandia_deep_learning\"), 'launch/robot_gandia_deep_learning.launch.py'))\n",
    "    )\n",
    "    res.append(launch_robot_deepLearning)\n",
    "\n",
    "    launch_service_move = IncludeLaunchDescription(\n",
    "        PythonLaunchDescriptionSource(os.path.join(get_package_share_directory(\"proy_techcommit_service_move\"), 'launch/movement_server_launch.launch.py'))\n",
    "    )\n",
    "    res.append(launch_service_move)\n",
    "\n",
    "    '''\n",
    "    .\n",
    "    .\n",
    "    .\n",
    "    .\n",
    "    '''\n",
    "    # El resto de lanzadores se añaden teniendo en cuenta el orden de lanzamiento.\n",
    "\n",
    "    return LaunchDescription(res)"
   ]
  },
  {
   "cell_type": "markdown",
   "metadata": {
    "id": "iWR63PGNO-xL"
   },
   "source": [
    "Una vez que hayamos agregado todos los lanzadores, solo nos queda compilar el proyecto:"
   ]
  },
  {
   "cell_type": "code",
   "execution_count": null,
   "metadata": {
    "id": "6mF_6McdPGRk"
   },
   "outputs": [],
   "source": [
    "colcon build"
   ]
  },
  {
   "cell_type": "markdown",
   "metadata": {
    "id": "9heDF_i5PH_j"
   },
   "source": [
    "Luego, ejecutamos nuestro lanzador (launch) para poner en marcha el proyecto."
   ]
  },
  {
   "cell_type": "code",
   "execution_count": null,
   "metadata": {
    "id": "Iy9DspIrPNXD"
   },
   "outputs": [],
   "source": [
    "ros2 launch nombre_proyecto_bringup nombre_proyecto_bringup.launch.py"
   ]
  }
 ],
 "metadata": {
  "colab": {
   "provenance": []
  },
  "kernelspec": {
   "display_name": "Python 3 (ipykernel)",
   "language": "python",
   "name": "python3"
  },
  "language_info": {
   "codemirror_mode": {
    "name": "ipython",
    "version": 3
   },
   "file_extension": ".py",
   "mimetype": "text/x-python",
   "name": "python",
   "nbconvert_exporter": "python",
   "pygments_lexer": "ipython3",
   "version": "3.10.12"
  }
 },
 "nbformat": 4,
 "nbformat_minor": 4
}

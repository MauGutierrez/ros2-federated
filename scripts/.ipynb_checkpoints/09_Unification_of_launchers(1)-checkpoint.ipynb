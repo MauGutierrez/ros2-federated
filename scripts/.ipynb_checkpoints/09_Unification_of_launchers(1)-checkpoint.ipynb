{
  "nbformat": 4,
  "nbformat_minor": 0,
  "metadata": {
    "colab": {
      "provenance": []
    },
    "kernelspec": {
      "name": "python3",
      "display_name": "Python 3"
    },
    "language_info": {
      "name": "python"
    }
  },
  "cells": [
    {
      "cell_type": "markdown",
      "source": [
        "En el siguiente cuaderno colaborativo (Colab), aprenderemos cómo realizar una unificación de lanzadores (launchers) para ROS 2. Esta unificación nos permitirá tener solo uno o dos terminales abiertos en lugar de uno por cada lanzador.\n",
        "\n",
        "Para lograr esto, lo primero que debemos hacer es crear un paquete con el nombre de nuestro proyecto seguido de \"_bringup\". Para crear un paquete en Python para ROS 2, utilizamos el siguiente comando:"
      ],
      "metadata": {
        "id": "44sHAlo0MTxe"
      }
    },
    {
      "cell_type": "code",
      "execution_count": null,
      "metadata": {
        "id": "YWuJcY-JMCja"
      },
      "outputs": [],
      "source": [
        "ros2 pkg create --build-type ament_python nombre_proyecto_bringup"
      ]
    },
    {
      "cell_type": "markdown",
      "source": [
        "Después de crear el proyecto, procederemos a crear una carpeta llamada \"launch\". Dentro de esta carpeta, crearemos un archivo en Python con el nombre **nombre_proyecto_bringup.launch.py** y copiaremos el siguiente código:\n",
        "\n",
        "Nota: He tomado como ejemplo el proyecto **proy_techcommit** presentado en el  sprint 2."
      ],
      "metadata": {
        "id": "NCSaYPA1NUsd"
      }
    },
    {
      "cell_type": "code",
      "source": [
        "import os\n",
        "import random\n",
        "from launch_ros.actions import Node\n",
        "from launch import LaunchDescription\n",
        "from ament_index_python import get_package_share_directory\n",
        "from launch.actions import IncludeLaunchDescription\n",
        "from launch.launch_description_sources import PythonLaunchDescriptionSource\n",
        "\n",
        "def generate_launch_description():\n",
        "    res = []\n",
        "\n",
        "\n",
        "    launch_robot_world = IncludeLaunchDescription(\n",
        "        PythonLaunchDescriptionSource(os.path.join(get_package_share_directory(\"proy_techcommit_mundo\"), 'launch/turtlebot3_proy_techcommit.launch.py'))\n",
        "    )\n",
        "    res.append(launch_robot_world)\n",
        "\n",
        "    launch_robot_deepLearning = IncludeLaunchDescription(\n",
        "        PythonLaunchDescriptionSource(os.path.join(get_package_share_directory(\"robot_gandia_deep_learning\"), 'launch/robot_gandia_deep_learning.launch.py'))\n",
        "    )\n",
        "    res.append(launch_robot_deepLearning)\n",
        "\n",
        "    launch_service_move = IncludeLaunchDescription(\n",
        "        PythonLaunchDescriptionSource(os.path.join(get_package_share_directory(\"proy_techcommit_service_move\"), 'launch/movement_server_launch.launch.py'))\n",
        "    )\n",
        "    res.append(launch_service_move)\n",
        "\n",
        "    '''\n",
        "    .\n",
        "    .\n",
        "    .\n",
        "    .\n",
        "    '''\n",
        "    # El resto de lanzadores se añaden teniendo en cuenta el orden de lanzamiento.\n",
        "\n",
        "    return LaunchDescription(res)"
      ],
      "metadata": {
        "id": "eEzELgL-N77g"
      },
      "execution_count": null,
      "outputs": []
    },
    {
      "cell_type": "markdown",
      "source": [
        "Una vez que hayamos agregado todos los lanzadores, solo nos queda compilar el proyecto:"
      ],
      "metadata": {
        "id": "iWR63PGNO-xL"
      }
    },
    {
      "cell_type": "code",
      "source": [
        "colcon build"
      ],
      "metadata": {
        "id": "6mF_6McdPGRk"
      },
      "execution_count": null,
      "outputs": []
    },
    {
      "cell_type": "markdown",
      "source": [
        "Luego, ejecutamos nuestro lanzador (launch) para poner en marcha el proyecto."
      ],
      "metadata": {
        "id": "9heDF_i5PH_j"
      }
    },
    {
      "cell_type": "code",
      "source": [
        "ros2 launch nombre_proyecto_bringup nombre_proyecto_bringup.launch.py"
      ],
      "metadata": {
        "id": "Iy9DspIrPNXD"
      },
      "execution_count": null,
      "outputs": []
    }
  ]
}